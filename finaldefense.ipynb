{
 "cells": [
  {
   "cell_type": "markdown",
   "metadata": {
    "slideshow": {
     "slide_type": "skip"
    }
   },
   "source": [
    " - Introduction:\n",
    "     - structure function problem\n",
    "     - modalities of data\n",
    "     - connectivity\n",
    "     - mean field models\n",
    "     \n",
    " - DWI advances\n",
    " - NMM brief explanation and results\n",
    " - complex laplacian\n",
    " - spectral graph model"
   ]
  },
  {
   "cell_type": "markdown",
   "metadata": {
    "slideshow": {
     "slide_type": "slide"
    }
   },
   "source": [
    "<p style = \"text-align:center; font-size:150%;\">Model Based Analysis of Multimodal Neuroimaging: From Neural Masses to Spectral Graph Theory</p>\n",
    "<p style = \"text-align:center; font-size:70%;\"><em>Thesis Defense</em></p>\n",
    "<p style = \"text-align:center; font-size:70%;\"><em>Presented to the Weill Cornell Graduate School of Medical Sciences</em></p>\n",
    "<p style = \"text-align:center; font-size:70%;\"><em>In Fulfillment of the Requirements for the Degree of Doctor of Philosophy</em></p>\n",
    "\n",
    "<center>\n",
    "<img src = \"figures/presentation/tract_viz.gif\" alt = \"intro\" width = \"400\" style = \"align:center\"/>\n",
    "</center>\n",
    "\n",
    "<p style = \"text-align:center; font-size:70%;\">Xi He Xie</p>\n",
    "<p style = \"text-align:center; font-size:70%;\">Department of Neuroscience, Weill Cornell Medicine</p>\n",
    "<p style = \"text-align:center; font-size:70%;\">Visiting Graduate, University of California San Francisco</p>\n",
    "<p style = \"text-align:center; font-size:70%;\">Nov 8th, 2021</p>"
   ]
  },
  {
   "cell_type": "markdown",
   "metadata": {
    "slideshow": {
     "slide_type": "slide"
    }
   },
   "source": [
    "What's so special about the human brain?\n",
    "---\n",
    "\n",
    " - Humans have the remarkable ability to invent symbol systems such as the arabic numeric system or the alphabet.\n",
    "\n",
    "<center>\n",
    "    <img src = \"figures/presentation/lost_data.png\" alt = \"messy_data\" width = \"900\" style = \"align:center\" />\n",
    "</center>\n",
    "\n",
    "<aside class=\"notes\">\n",
    "Before I start talking in jargons and data, let's think for a second. I'm sure everyone here had days like this guy, we are constantly reading papers, crunching data, doing numerical analysis, and it can get extremely messy if you don't practice good organizational routines. Despite all that, our brains are still efficiently taking these symbols, putting them into context, and processes the complicated information... if you had enough coffee\n",
    "</aside>"
   ]
  },
  {
   "cell_type": "code",
   "execution_count": null,
   "metadata": {
    "slideshow": {
     "slide_type": "slide"
    }
   },
   "outputs": [],
   "source": []
  }
 ],
 "metadata": {
  "celltoolbar": "Slideshow",
  "kernelspec": {
   "display_name": "Python (spectrome)",
   "language": "python",
   "name": "spectrome"
  },
  "language_info": {
   "codemirror_mode": {
    "name": "ipython",
    "version": 3
   },
   "file_extension": ".py",
   "mimetype": "text/x-python",
   "name": "python",
   "nbconvert_exporter": "python",
   "pygments_lexer": "ipython3",
   "version": "3.8.1"
  }
 },
 "nbformat": 4,
 "nbformat_minor": 4
}
