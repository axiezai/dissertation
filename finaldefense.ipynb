{
 "cells": [
  {
   "cell_type": "code",
   "execution_count": 5,
   "metadata": {},
   "outputs": [],
   "source": [
    "from ipywidgets import interactive, widgets, fixed\n",
    "from surfer import Brain as surface\n",
    "from matplotlib.colors import ListedColormap\n",
    "from sklearn.preprocessing import minmax_scale\n",
    "\n",
    "import os, sys\n",
    "import nibabel as nib\n",
    "import numpy as np\n",
    "import pandas as pd\n",
    "import matplotlib.pyplot as plt\n",
    "\n",
    "# spectrome:\n",
    "from spectrome.brain import Brain\n",
    "from spectrome.utils import functions, path\n",
    "\n",
    "# wilson cowan model:\n",
    "module_path = '/Users/xxie/lab/model_inference/'\n",
    "if module_path not in sys.path:\n",
    "    sys.path.append(module_path)\n",
    "    sys.path.append(os.path.join(module_path, 'model_inference'))\n",
    "    \n",
    "from model_inference.models.WilsonCowanModel import WilsonCowanModel\n",
    "from model_inference.functions import utils\n",
    "\n",
    "from spectrum import dpss\n",
    "\n",
    "plt.style.use('bmh')"
   ]
  },
  {
   "cell_type": "code",
   "execution_count": 6,
   "metadata": {},
   "outputs": [],
   "source": [
    "%gui qt\n",
    "\n",
    "# pysurfer variables:\n",
    "subject_id = 'fsaverage'\n",
    "hemi = ['lh', 'rh']\n",
    "surf = 'white'\n",
    "\n",
    "# parcellation:\n",
    "hemi_side = 'lh'\n",
    "aparc_file = os.path.join(os.environ['SUBJECTS_DIR'],\n",
    "                         subject_id, 'label',\n",
    "                         hemi_side + '.aparc.annot')\n",
    "labels, ctab, names = nib.freesurfer.read_annot(aparc_file)"
   ]
  },
  {
   "cell_type": "code",
   "execution_count": 33,
   "metadata": {},
   "outputs": [],
   "source": [
    "# function for viewing canonical networks:\n",
    "def get_fc_values(fc_df, labels, fc_name):\n",
    "    # get our data ready in both hemispheres\n",
    "    fc_network = fc_df.loc[fc_name].values\n",
    "    lh_cort = minmax_scale(fc_network[0:34])\n",
    "    rh_cort = minmax_scale(fc_network[34:68])\n",
    "\n",
    "    # for pysurfer requirements\n",
    "    lh_pad = np.insert(lh_cort, [0, 3], [0, 0])\n",
    "    rh_pad = np.insert(rh_cort, [0, 3], [0, 0])\n",
    "\n",
    "    lh_fc = lh_pad[labels]\n",
    "    rh_fc = rh_pad[labels]\n",
    "\n",
    "    fc_brain = surface(\n",
    "        subject_id,\n",
    "        \"both\",\n",
    "        surf,\n",
    "        background=\"white\",\n",
    "        alpha=1,\n",
    "        title=\"Canonical Networks\",\n",
    "    )\n",
    "    fc_brain.hide_colorbar()\n",
    "    fc_brain.add_data(lh_fc, hemi=\"lh\", thresh=0.15, colormap=plt.cm.autumn_r, remove_existing=True)\n",
    "    fc_brain.add_data(rh_fc, hemi=\"rh\", thresh=0.15, colormap=plt.cm.autumn_r, remove_existing=True)\n",
    "    #fc_brain.scale_data_colormap(color_fmin, color_fmid, color_fmax, transparent=False)\n",
    "    return lh_fc, rh_fc\n",
    "\n",
    "\n",
    "# function for simulating and plotting oscillator model:\n",
    "duration = 2000\n",
    "fs = 0.2\n",
    "times = np.linspace(0, duration, int(duration*fs))\n",
    "nfft = int(4096/8)\n",
    "\n",
    "[tapers, eigen] = dpss(len(times), 7)\n",
    "band, frequencies = utils.get_frequencies(\n",
    "    nfft,\n",
    "    200,\n",
    "    fmin=2,\n",
    "    fmax=45\n",
    ")\n",
    "\n",
    "def simulate_neural_mass(tauE, tauI, P):\n",
    "    nmm = WilsonCowanModel(times, fs = fs*1000, nfft = nfft)\n",
    "    ts, psd = nmm.simulate([tauE, tauI, P])\n",
    "    axs = plt.figure(figsize=(10,4), constrained_layout=True).subplots(1,2)\n",
    "    axs[0].plot(times[int(fs*1000):], ts)\n",
    "    axs[0].title.set_text('Time course')\n",
    "    axs[0].set_xlabel('Time (ms)')\n",
    "    axs[1].plot(frequencies, np.log10(psd))\n",
    "    axs[1].title.set_text('Frequency Spectrum')\n",
    "    axs[1].set_xlabel('Frequency (Hz)')\n",
    "    axs[1].set_ylabel('Magnitude')\n",
    "    return ts, psd"
   ]
  },
  {
   "cell_type": "code",
   "execution_count": 5,
   "metadata": {},
   "outputs": [],
   "source": [
    "fc_names = [\n",
    "    \"Visual\",\n",
    "    \"Limbic\",\n",
    "    \"Default\",\n",
    "    \"Somatomotor\",\n",
    "    \"Frontoparietal\",\n",
    "    \"Ventral_Attention\",\n",
    "    \"Dorsal_Attention\",\n",
    "]\n",
    "# Load Pablo's canonical networks in DK atlas:\n",
    "fc_dk = np.load(\"/Users/xxie/lab/complex_laplacian/data/com_dk.npy\", allow_pickle=True).item()\n",
    "fc_dk_normalized = pd.read_csv(\"/Users/xxie/lab/complex_laplacian/data/DK_dictionary_normalized.csv\").set_index(\n",
    "    \"Unnamed: 0\"\n",
    ")"
   ]
  },
  {
   "cell_type": "markdown",
   "metadata": {
    "slideshow": {
     "slide_type": "skip"
    }
   },
   "source": [
    "- Introduction:\n",
    "     - structure function problem\n",
    "     - modalities of data\n",
    "     - connectivity\n",
    "     - mean field models\n",
    "     \n",
    " - DWI advances\n",
    " - NMM brief explanation and results\n",
    " - complex laplacian\n",
    " - spectral graph model"
   ]
  },
  {
   "cell_type": "markdown",
   "metadata": {
    "slideshow": {
     "slide_type": "slide"
    }
   },
   "source": [
    "<p style = \"text-align:center; font-size:150%;\">Model Based Analysis of Multimodal Neuroimaging: From Neural Masses to Spectral Graph Theory</p>\n",
    "<p style = \"text-align:center; font-size:70%;\"><em>Thesis Defense</em></p>\n",
    "<p style = \"text-align:center; font-size:70%;\"><em>Presented to the Weill Cornell Graduate School of Medical Sciences</em></p>\n",
    "<p style = \"text-align:center; font-size:70%;\"><em>In Fulfillment of the Requirements for the Degree of Doctor of Philosophy</em></p>\n",
    "\n",
    "<center>\n",
    "<img src = \"figures/presentation/whole_brain.png\" alt = \"intro\" style = \"align:center;width:700px;height:400px\"/>\n",
    "</center>\n",
    "\n",
    "<p style = \"text-align:center; font-size:70%;\">Xi He Xie</p>\n",
    "<p style = \"text-align:center; font-size:70%;\">Department of Neuroscience, Weill Cornell Medicine</p>\n",
    "<p style = \"text-align:center; font-size:70%;\">Visiting Graduate, University of California San Francisco</p>\n",
    "<p style = \"text-align:center; font-size:70%;\">Nov 8th, 2021</p>"
   ]
  },
  {
   "cell_type": "markdown",
   "metadata": {
    "slideshow": {
     "slide_type": "slide"
    }
   },
   "source": [
    "What's so special about the human brain?\n",
    "---\n",
    "\n",
    " - Humans have the remarkable ability to invent symbol systems such as the arabic numeric system or the alphabet.\n",
    "\n",
    "<center>\n",
    "    <img src = \"figures/presentation/lost_data.png\" alt = \"messy_data\" width = \"900\" style = \"align:center\" />\n",
    "</center>\n",
    "\n",
    "<aside class=\"notes\">\n",
    "Before I start talking in jargons and data, let's think for a second. I'm sure everyone here had days like this guy, we are constantly reading papers, crunching data, doing numerical analysis, and it can get extremely messy if you don't practice good organizational routines. Despite all that, our brains are still efficiently taking these symbols, putting them into context, and processes the complicated information... if you had enough coffee\n",
    "</aside>"
   ]
  },
  {
   "cell_type": "markdown",
   "metadata": {
    "slideshow": {
     "slide_type": "slide"
    }
   },
   "source": [
    "#### Exercise:\n",
    "\n",
    " - What is so special about human brain functionality that allows it to acquire these cultural tools? (Language, reading, arithmetics) Let's examine the two possible hypothesis:"
   ]
  },
  {
   "cell_type": "markdown",
   "metadata": {
    "slideshow": {
     "slide_type": "fragment"
    }
   },
   "source": [
    " 1) Cultural functionality is acquired by expanded cortical plasticity unique to humans.\n",
    "     \n",
    "\n",
    " 2) Humans have evolved new specialized circuitry, each providing new cognitive functions.\n",
    "\n",
    "<aside class=\"notes\">\n",
    "On one extreme, you can have (1), on the other you can have (2). So very quickly, by a show of hands, who agrees with 1? la la la... who agrees with (2)?\n",
    "\n",
    " - Human brians accomodate a broad range of new functions through learning.\n",
    "    \n",
    " - At the extreme, the brain's architecture exerts little to no contraints on the range of competence we can acquire.\n",
    "    \n",
    " - This may also suggest individual brain's implementation of cultural abilities is highly variable across individuals.\n",
    "    \n",
    " - Humans experienced evolutionary pressure to develop brain circuitry for understanding symbols?\n",
    "    \n",
    " - But reading was invented ~5000 years ago, and artihmetics even more recent!\n",
    "</aside>"
   ]
  },
  {
   "cell_type": "markdown",
   "metadata": {
    "slideshow": {
     "slide_type": "subslide"
    }
   },
   "source": [
    " - Primates have prior brain functions and structures that were eventually adapted and efficiently used by humans.\n",
    " \n",
    "<!-- <center>\n",
    "    <img src = \"figures/presentation/xkcd_surgery.png\" alt = \"xkcd\" width = \"1000\" style = \"align:center\" />\n",
    "<center/>\n",
    "<aside class=\"notes\">\n",
    "So this is from xkcd, and it's true there's an xkcd comic for everything. The brain's structure itself stays the same, but when our ancestors acquire new tools like symbols in arithmetics and reading, their brains adapted what was already available in primate brains and expand it's capabilities like a software update.\n",
    "</aside> -->"
   ]
  },
  {
   "cell_type": "markdown",
   "metadata": {
    "slideshow": {
     "slide_type": "slide"
    }
   },
   "source": [
    "### The structure-function problem in neuroscience:\n",
    "The brain's structure at various spatial scales is critical for determining its function."
   ]
  },
  {
   "cell_type": "markdown",
   "metadata": {
    "slideshow": {
     "slide_type": "fragment"
    }
   },
   "source": [
    "<b>My thesis' interest in particular: Finding the relationship between the brain's <em>structural wiring</em> and the <em>functional</em> patterns of neural activity.</b>\n",
    " - Consider the brain to be a macroscopic network of nodes and edges:\n",
    "     - Identifiable gray matter brain regions of interest (ROIs)\n",
    "     - Long range connections between brain regions via white matter fiber bundles"
   ]
  },
  {
   "cell_type": "markdown",
   "metadata": {
    "slideshow": {
     "slide_type": "fragment"
    }
   },
   "source": [
    "<center>\n",
    "    <img src = \"figures/presentation/brain_nodes_edges.png\" alt = \"braingraph\" width = \"400\" style = \"align:right\"/>\n",
    "</center>"
   ]
  },
  {
   "cell_type": "markdown",
   "metadata": {
    "slideshow": {
     "slide_type": "slide"
    }
   },
   "source": [
    "Now we have a problem:\n",
    "--- \n",
    "<center>\n",
    "    <img src = \"figures/presentation/xkcd_brain.png\" alt = \"messy_data\" width = \"1000\" style = \"align:center\" />\n",
    "</center>\n",
    "<p style = \"text-align:center; font-size:75%;\"> xkcd-1163</p>\n",
    " \n",
    " - We want to look at the interesting stuff going on inside a living human brain...\n",
    " - What are some non-invasive methods of recording data from a living human brain?"
   ]
  },
  {
   "cell_type": "markdown",
   "metadata": {
    "slideshow": {
     "slide_type": "fragment"
    }
   },
   "source": [
    "#### We can measure brain data non-invasively in humans with ..."
   ]
  },
  {
   "cell_type": "markdown",
   "metadata": {
    "slideshow": {
     "slide_type": "subslide"
    }
   },
   "source": [
    "# functional data:\n",
    "### 1) Human Magnetoencephalography (MEG) frequency spectrum:\n",
    "<center>\n",
    "    <img src = \"figures/presentation/meg_spectrum_example.png\" alt = \"actualmeg\" width = \"1200\" style = \"align:center\"/>\n",
    "</center>\n",
    "<aside class=\"notes\">\n",
    "The first functional human brain data we collect is called MEG. Where we have our subjects sit inside an expensive insulated room under an even more expensive helmet. The helmet is cooled to near absolute zero to cool down the SQUIDS (superconducting quantum interference devices), these sensors can detect subtle changes in magnetic field as induced by evoked currents from the neurons. Anyone remember the right hand rule from physics class?\n",
    "    \n",
    "The result from each sensor is then mapped to our brain regions of interest, but we don't like looking at it over time, because all we would see are squiggly oscillatory lines. So we decompose these oscillations into combinations of sin/cos waves of various frequencies and power, and plot them here in what we call a power spectrum. Humans have very replicable and similar power spectrums, where we have idenfiable delta, theta, alpha, beta, gamma waves. The alpha wave usually stands out the most, if everyone closed their eyse right now, the 10 Hz signal in the posterior regions of your brain would just light up! And beta band is often mentioned in motor tasks with beta suppresion at the lateral motor cortex\n",
    "</aside>"
   ]
  },
  {
   "cell_type": "markdown",
   "metadata": {
    "slideshow": {
     "slide_type": "subslide"
    }
   },
   "source": [
    "<center>\n",
    "    <img src = \"figures/presentation/fmri_modalities.png\" alt=\"fmri\" width=\"1300\" style=\"align:center\" />\n",
    "</center>\n",
    "\n",
    "<aside class=\"notes\">\n",
    "Structural: The hydrogen molecules in our bodies contains 1 positive charge (protons), like the earth spinning on its axis with magnetic poles, each spinning charged molecule is also like a tiny magnet that spins around it's own axis. MRI uses magnetic fields and radio waves to measure locations of these molecules. These protons are all in random directions, the MRI machine uses a magnet that ranges from 1-7 Teslas to align all our protons in specific directions. For reference, the earth's magnetic field is ~0.6e-4T. The scanners produce a magnetic field that's 60,000 times stronger! \n",
    "fMRI: In our brains, we have billions of neurons, when a lot of these neurons begin to fire, the body rushes in oxygen to help supply energy. This is called a hemodynamic response, and what we measure is called blood oxygen level dependent signal (BOLD). \n",
    "DWI: The brain is connected by long distance projections called axonal fiber tracts. We specifically track the movement of water molecules inside the brain. And build a gradient of water diffusion. \n",
    "</aside>"
   ]
  },
  {
   "cell_type": "markdown",
   "metadata": {
    "slideshow": {
     "slide_type": "subslide"
    }
   },
   "source": [
    "### Structural data: diffusion weighted imaging\n",
    "<center>\n",
    "    <img src = \"figures/presentation/tract_viz.gif\" alt = \"dti\" width = \"1200\" style = \"align:center\"/>\n",
    "</center>"
   ]
  },
  {
   "cell_type": "markdown",
   "metadata": {
    "slideshow": {
     "slide_type": "slide"
    }
   },
   "source": [
    "# Organizing high dimensional data via connectivity - Anatomical"
   ]
  },
  {
   "cell_type": "markdown",
   "metadata": {
    "slideshow": {
     "slide_type": "subslide"
    }
   },
   "source": [
    "#### Quantify all the traced white matter streamlines between all brain regions into a matrix (Structural connectivity)"
   ]
  },
  {
   "cell_type": "markdown",
   "metadata": {
    "slideshow": {
     "slide_type": "fragment"
    }
   },
   "source": [
    "<center>\n",
    "<img src = \"figures/presentation/SC-example.png\" alt = \"SCmatrix\" width = \"1000\" style = \"align:center\"/>\n",
    "</center>\n",
    "<aside class=\"notes\">\n",
    "Now we align both the white matter fibers and our anatomical MRI scans, from each of these ROIs, we can start counting the number of fibers going to each of the other connected regions, and summarize all the connections in this connectivity matrix. The brain is what we like to call a small world network, where there are dense local connections for specialized function, and long range connections for integration of function with other hubs of connections. Just the inter- and intra- hemispheric connections you see here, dense within hemisphere, sparse across hemispheres.\n",
    "</aside>"
   ]
  },
  {
   "cell_type": "markdown",
   "metadata": {
    "slideshow": {
     "slide_type": "subslide"
    }
   },
   "source": [
    "# Connectivity - Functional"
   ]
  },
  {
   "cell_type": "markdown",
   "metadata": {
    "slideshow": {
     "slide_type": "fragment"
    }
   },
   "source": [
    "Network neuroscience described in 3 dimensions by Bassett, Zurn & Gold's review in 2018:\n",
    "\n",
    "<center>\n",
    "<img src = \"figures/presentation/dani_dimensions.png\" alt = \"dims\" style = \"align:center;width:800px;height:650px\"/>\n",
    "</center>"
   ]
  },
  {
   "cell_type": "markdown",
   "metadata": {
    "slideshow": {
     "slide_type": "subslide"
    }
   },
   "source": [
    "## Functional Connectivity\n",
    "\n",
    "<center>\n",
    "<img src = \"figures/presentation/fc_metrics.png\" alt = \"FC\" style = \"align:center;width:950px;height:500px\"/>\n",
    "</center>"
   ]
  },
  {
   "cell_type": "markdown",
   "metadata": {
    "slideshow": {
     "slide_type": "subslide"
    }
   },
   "source": [
    "## Simpson's Paradox:"
   ]
  },
  {
   "cell_type": "markdown",
   "metadata": {
    "slideshow": {
     "slide_type": "fragment"
    }
   },
   "source": [
    "<center>\n",
    "<img src = \"figures/chapter1/simpson.png\" alt = \"simpson\" width = \"1000\" style = \"align:center\"/>\n",
    "</center>\n",
    "\n",
    "<aside class=\"notes\">\n",
    "We can use a very simple example to highlight the threat of confounding, a scenario where an unobserved interaction can either cancel out an effect or induce spurious effects. Imagine there are two brain states, and one is associated with high activity of neuron A and low activity of neuron B, while another is associated with low activity of neuron A and high activity of neuron B. If we do not know the brain state (confound) one may conclude that A has a negative influence on B. But if we know the brain states, we then see that A increases the activity of B.\n",
    "</aside>"
   ]
  },
  {
   "cell_type": "markdown",
   "metadata": {
    "slideshow": {
     "slide_type": "subslide"
    }
   },
   "source": [
    "## Be careful with causality:"
   ]
  },
  {
   "cell_type": "markdown",
   "metadata": {
    "slideshow": {
     "slide_type": "fragment"
    }
   },
   "source": [
    " - Causality implies cause and effect. \n",
    "     - if a neuron influences another neuron, then perturbing the first would affect the second. (same for brain regions).\n",
    "     - However, it's always possible to constsruct a common input which will produce the same effect on a neuron that we believe is influenced by another neuron.\n",
    "     - Similarly, if there's no causal influence between A and B, it's always possible to use an addititonal neuron C to change A and B.\n",
    "\n",
    " - With our sensors surrounding the skull, we can never have a clear idea of all the confounds in our recordings. \n",
    "\n",
    " - Yet the lots of prominent publications are still claiming changes in FC or model parameters are revealing mechanistic links (\"connectivity\") between neuron populations.\n",
    "\n",
    " - The best we can say is the joint statistical distributions show potential biomarkers that helps classify certain groups of people at a particular epoch of time. (But even then...)"
   ]
  },
  {
   "cell_type": "markdown",
   "metadata": {
    "slideshow": {
     "slide_type": "slide"
    }
   },
   "source": [
    "# Modeling FC with Mean Field Theory in Neuroscience"
   ]
  },
  {
   "cell_type": "markdown",
   "metadata": {
    "slideshow": {
     "slide_type": "fragment"
    }
   },
   "source": [
    "Mean field theory originates from studies of magnetism and fluid dynamics, where scholars needed a few macroscopic variables to describe the collective behavior of individual units.\n",
    "\n",
    "The framework for application of mean field theory is dynamical systems, an example is Einstein's famous law of motion:\n",
    "\n",
    "$$ \\frac{dV}{dt} = \\frac{F}{m} $$"
   ]
  },
  {
   "cell_type": "markdown",
   "metadata": {
    "slideshow": {
     "slide_type": "fragment"
    }
   },
   "source": [
    "But instead in neuroscience, we are computing the average firing rate over a population (neural mass) of excitatory or inhibitory neurons:\n",
    "\n",
    "$$ \\frac{dE}{dt} = -D(E) + \\Psi (E) + \\epsilon (t)$$\n",
    "\n",
    "<aside class=\"notes\">\n",
    "Mean field models extention to whole brain network models... \n",
    "</aside>"
   ]
  },
  {
   "cell_type": "markdown",
   "metadata": {
    "slideshow": {
     "slide_type": "fragment"
    }
   },
   "source": [
    "#### Wilson & Cowan neural mass model:\n",
    "\n",
    "$$\\tau_e \\frac{dE_{j}(t)}{dt} = -E_{j}(t) + (1 - r_e E_{j}(t)) \\, S_e(c_1 E_{j}(t) - c_2 I_{j}(t) + P) + \\epsilon_{j} (t)$$\n",
    "\n",
    "$$\\tau_i \\frac{dI_{j}(t)}{dt} = -I_{j}(t) + (1 - r_i I_{j}(t)) \\, S_i(c_3 E_{j}(t) - c_4 I_{j}(t)) + \\epsilon_{j} (t)$$"
   ]
  },
  {
   "cell_type": "markdown",
   "metadata": {
    "slideshow": {
     "slide_type": "subslide"
    }
   },
   "source": [
    "### Parameter control of dynamics and Hopf bifurcation:"
   ]
  },
  {
   "cell_type": "code",
   "execution_count": 34,
   "metadata": {
    "slideshow": {
     "slide_type": "fragment"
    }
   },
   "outputs": [
    {
     "data": {
      "application/vnd.jupyter.widget-view+json": {
       "model_id": "ee8f2732f15d4378a0b51f71d9fa8f19",
       "version_major": 2,
       "version_minor": 0
      },
      "text/plain": [
       "interactive(children=(IntSlider(value=8, continuous_update=False, description='$\\\\tau_e$', max=20, min=1), Int…"
      ]
     },
     "metadata": {},
     "output_type": "display_data"
    }
   ],
   "source": [
    "interactive(\n",
    "    simulate_neural_mass,\n",
    "    tauE = widgets.IntSlider(value=8,min=1,max=20,step=1,description=r'$\\tau_e$',continuous_update=False,),\n",
    "    tauI = widgets.IntSlider(value=8,min=1,max=20,step=1,description=r'$\\tau_i$',continuous_update=False,),\n",
    "    P = widgets.FloatSlider(value=1.25,min=0.5,max=2,step=0.05,description='Driving force',continuous_update=False,),\n",
    ")"
   ]
  },
  {
   "cell_type": "markdown",
   "metadata": {
    "slideshow": {
     "slide_type": "subslide"
    }
   },
   "source": [
    "<center>\n",
    "<img src = \"figures/chapter3/oscillator_unit.png\" alt = \"oscillator_unit\" style=\"align:center;width:680px;height:750px;\"/>\n",
    "</center>"
   ]
  },
  {
   "cell_type": "markdown",
   "metadata": {
    "slideshow": {
     "slide_type": "slide"
    }
   },
   "source": [
    "### Can NMM capture the brain's broadband power spectrum?"
   ]
  },
  {
   "cell_type": "markdown",
   "metadata": {
    "slideshow": {
     "slide_type": "subslide"
    }
   },
   "source": [
    "###  Inferring model parameters with MCMC sampling:\n",
    "\n",
    "<center>\n",
    "<img src = \"figures/chapter3/oscillator_full_10hz.png\" alt = \"oscillator_fullfit\" style = \"align:center;width:800px;height:820px\"/>\n",
    "</center>\n",
    "\n",
    "<aside class=\"notes\">\n",
    "Most probable distribution of values for parameters of interest.\n",
    "</aside>"
   ]
  },
  {
   "cell_type": "markdown",
   "metadata": {
    "slideshow": {
     "slide_type": "subslide"
    }
   },
   "source": [
    "### What if we aim for periodic frequency spectrum only?\n",
    "\n",
    "<center>\n",
    "<img src = \"figures/chapter3/oscillator_periodic_10hz.png\" alt = \"oscillator_periodicfit\" style = \"align:center;width:800px;height:800px\"/>\n",
    "</center>"
   ]
  },
  {
   "cell_type": "markdown",
   "metadata": {
    "slideshow": {
     "slide_type": "subslide"
    }
   },
   "source": [
    "## Exhaustive grid search yields similar results:\n",
    "\n",
    "<center>\n",
    "<img src = \"figures/chapter3/gridsearch_fullfit.png\" alt = \"gridsearch\" width = \"1500\" style = \"align:center\"/>\n",
    "</center>\n",
    "\n",
    "<aside - add transition with identifiability issue"
   ]
  },
  {
   "cell_type": "markdown",
   "metadata": {
    "slideshow": {
     "slide_type": "slide"
    }
   },
   "source": [
    "## Neural mass model extensions to the whole brain:"
   ]
  },
  {
   "cell_type": "markdown",
   "metadata": {
    "slideshow": {
     "slide_type": "fragment"
    }
   },
   "source": [
    "$$ \\frac{dE}{dt} = -D(E) + \\Psi (E) + \\mathbf{A}E(t-\\tau_d) + \\epsilon (t)$$\n",
    "\n",
    "<aside class=\"notes\">\n",
    "    how ridiculous is it that noise drives deviation away from limit cycle activity.\n",
    "</aside>"
   ]
  },
  {
   "cell_type": "markdown",
   "metadata": {
    "slideshow": {
     "slide_type": "fragment"
    }
   },
   "source": [
    "#### Wilson-Cowan model:\n",
    "\n",
    "$$ \\tau_e \\frac{dE_{j}(t)}{dt} = -E_{j}(t) + (1 - r_e E_{j}(t)) \\, S_e(c_1 E_{j}(t) - c_2 I_{j}(t) + c_5 \\sum_{k} A_{jk} E_{k}(t - \\tau_d^k) + P) + \\epsilon_{j} (t) $$\n",
    "\n",
    "$$ \\tau_i \\frac{dI_{j}(t)}{dt} = -I_{j}(t) + (1 - r_i I_{j}(t)) \\, S_i(c_3 E_{j}(t) - c_4 I_{j}(t)) + \\epsilon_{j} (t) $$"
   ]
  },
  {
   "cell_type": "markdown",
   "metadata": {
    "slideshow": {
     "slide_type": "subslide"
    }
   },
   "source": [
    "<center>\n",
    "<img src = \"figures/chapter3/p_behavior.png\" alt = \"p_behavior\" style = \"align:center;width:680px;height:945px\"/>\n",
    "</center>\n",
    "\n",
    "<aside class=\"notes\">\n",
    "    Talk about how it's mainly the delay and noise driving the dynamics they see. Talk about how now it's 68 x 68 / 2 number of elements to optimize for, and they are second order statistics. Talk about the spectra, can these network models capture region-wise frequency spectrum?\n",
    "</aside>"
   ]
  },
  {
   "cell_type": "markdown",
   "metadata": {
    "slideshow": {
     "slide_type": "subslide"
    }
   },
   "source": [
    "#### NMMs are difficult to invert:\n",
    "\n",
    " - Sensitive to initial conditions.\n",
    " - Delayed networks require \"history\" and there is no framework for establishing this.\n",
    " - High number of parameters.\n",
    " - Integration of dynamic systems is time and resource consuming.\n",
    " - Step-wise integration with noise requires adaptive time steps.\n",
    " - Transitions betweeen quiet, stable, and limit cycle regimes create local minimas."
   ]
  },
  {
   "cell_type": "markdown",
   "metadata": {
    "slideshow": {
     "slide_type": "fragment"
    }
   },
   "source": [
    "Phase-plane portrait of the Wilson-Cowan NMM reviewed by M. Breakspear:\n",
    "\n",
    "<center>\n",
    "<img src = \"figures/chapter1/wc-pp.png\" alt = \"phaseplane\" style = \"align:center;width:1200px;height:300px\"/>\n",
    "</center>"
   ]
  },
  {
   "cell_type": "markdown",
   "metadata": {
    "slideshow": {
     "slide_type": "subslide"
    }
   },
   "source": [
    "#### Tricks used to avoid theses problems:\n",
    "\n",
    " - Simplify the model (even more).\n",
    " - Identical parameters at every node of the network.\n",
    " - Choose a subset of global parameters for inference. \n",
    " - Choose initial conditions so that it is near a handpicked optimal solution or Hopf bifurcation point.\n",
    " - Conditional minimization of subsets of parameters.\n",
    " - Wrap NMM solution with another layer of model."
   ]
  },
  {
   "cell_type": "markdown",
   "metadata": {
    "slideshow": {
     "slide_type": "fragment"
    }
   },
   "source": [
    "### Can a network NMM capture whole brain dynamics without these tricks?\n",
    "\n",
    "### Does inverting models to FC translate well to capture the brain's frequency spectrum?"
   ]
  },
  {
   "cell_type": "markdown",
   "metadata": {
    "slideshow": {
     "slide_type": "subslide"
    }
   },
   "source": [
    "### Global coupling posterior simulated spectra:\n",
    "\n",
    "<center>\n",
    "<img src = \"figures/chapter3/individual_c5_spectra.png\" alt = \"c5spectra\" width = \"1500\" style = \"align:center\"/>\n",
    "</center>"
   ]
  },
  {
   "cell_type": "markdown",
   "metadata": {
    "slideshow": {
     "slide_type": "subslide"
    }
   },
   "source": [
    "### All parameter posterior simulated spectra:\n",
    "\n",
    "<center>\n",
    "<img src = \"figures/chapter3/individual_hopf_spectra.png\" alt = \"hopfspectra\" width = \"1500\" style = \"align:center\"/>\n",
    "</center>"
   ]
  },
  {
   "cell_type": "markdown",
   "metadata": {
    "slideshow": {
     "slide_type": "subslide"
    }
   },
   "source": [
    "### Take aways:\n",
    "\n",
    " - Neural mass models (NMMs) are nonlinear dynamical systems describing mean field activity of neuron populations.\n",
    " - NMMs have been heavily used to analyze whole brain functional data.\n",
    " - Second order statistics like functional connectivity cannot describe causal effects due to confounding. \n",
    " - NMM inversion not easily extendable to the whole brain scale.\n",
    "     - Identifiability issues of inferred parameters.\n",
    "     - Sensitivity to initial conditions and history.\n",
    "     - Non-convex optimization problem.\n",
    " - It is no surprise that deep learing has overtaken theoretical models in classification."
   ]
  },
  {
   "cell_type": "markdown",
   "metadata": {
    "slideshow": {
     "slide_type": "slide"
    }
   },
   "source": [
    "<p style = \"text-align:center; font-size:150%;\">But the joint dynamics of many neurons is still interesting!</p>\n",
    "\n",
    "<p style = \"text-align:center; font-size:100%;\">Low dimensional projections of brain recordings can reveal invariant patterns or biomarkers!</p>"
   ]
  },
  {
   "cell_type": "markdown",
   "metadata": {
    "slideshow": {
     "slide_type": "subslide"
    }
   },
   "source": [
    "Canonical Functional Networks\n",
    "---\n",
    " - Obtained from resting-state fMRI recordings\n",
    " - Consistently observed functional networks in both resting-state fMRI and MEG\n",
    " - There are seven of these prominent, most frequently visited functional networks identified by neuroimaging studies."
   ]
  },
  {
   "cell_type": "code",
   "execution_count": null,
   "metadata": {
    "slideshow": {
     "slide_type": "fragment"
    }
   },
   "outputs": [],
   "source": [
    "interactive(\n",
    "    get_fc_values,\n",
    "    fc_df=fixed(fc_dk_normalized),\n",
    "    labels=fixed(labels),\n",
    "    fc_name=widgets.RadioButtons(\n",
    "        options=fc_names, value=\"Limbic\", description=\"Select canonical network\"\n",
    "    ),\n",
    ")"
   ]
  },
  {
   "cell_type": "markdown",
   "metadata": {
    "slideshow": {
     "slide_type": "subslide"
    }
   },
   "source": [
    "## Measuring brain structure and function:"
   ]
  },
  {
   "cell_type": "markdown",
   "metadata": {
    "slideshow": {
     "slide_type": "fragment"
    }
   },
   "source": [
    "A reminder of what we have ...\n",
    "- Resting-state functional recordings from MEG, fMRI functional networks"
   ]
  },
  {
   "cell_type": "markdown",
   "metadata": {
    "slideshow": {
     "slide_type": "fragment"
    }
   },
   "source": [
    " - Anatomical magnetic resonance images (MRIs) to co-register MEG coordinates to \"head\" coordinates"
   ]
  },
  {
   "cell_type": "markdown",
   "metadata": {
    "slideshow": {
     "slide_type": "fragment"
    }
   },
   "source": [
    " - Parcellated brain regions from MRI (68 cortical regions and 18 subcortical regions in our atlas of choice)"
   ]
  },
  {
   "cell_type": "markdown",
   "metadata": {
    "slideshow": {
     "slide_type": "fragment"
    }
   },
   "source": [
    " - Diffusion weighted imaging (DTI) for anatomical wiring architecture via tractography"
   ]
  },
  {
   "cell_type": "markdown",
   "metadata": {
    "slideshow": {
     "slide_type": "fragment"
    }
   },
   "source": [
    " - Hard working graduate students!"
   ]
  },
  {
   "cell_type": "markdown",
   "metadata": {
    "slideshow": {
     "slide_type": "subslide"
    }
   },
   "source": [
    "### How do canonical functional networks arise from structural networks?"
   ]
  },
  {
   "cell_type": "markdown",
   "metadata": {
    "slideshow": {
     "slide_type": "fragment"
    }
   },
   "source": [
    "We have a new framework combining connectivity matrices and distance matrices that results in a complex structural connectome (Laplacian), on which we do an eigen decomposition analysis with only 2 global parameters, coupling strength $\\alpha$ and wave number $k$:\n",
    "\n",
    "<center>\n",
    "<img src = \"figures/presentation/lap_overview.png\" alt = \"workflow\" style = \"align:center;width:1200px;height:390px\"/>\n",
    "</center>\n",
    "\n",
    "<aside class=\"notes\">\n",
    "READ THE SLIDE\n",
    "\n",
    "Remember the rotating tractogram I showed before? And we extracted structural connetivitty matrix by counting white matter connections? That's the yellow and red matrix here. But we also want to obtain the distance of all our tracts and summarize them the same way in this blue and white matrix, calling it the distance adjacency matrix. The upper triangle here is scaled by alpha, the global coupling term, indicating how much of our signal comes from connections rather than local dynamics, the second parameter wave number is paired with the lower triangle, the wave number is a spatial frequency describing the amount of distance a signal in the brain travels per oscillation. With these 2 parameters, we can obtain this next matrix called the complex Laplacian. This matrix describes the characteristic signal spread patterns in a network with eigenmodes. Now imagine you are a signal in the brain, when you travel from region to region, it's not random, you must follow the brain's structural wiring, and this matrix tells you how these wirings would guide your signal. And if we project these patterns onto the brains, we can start comparing these eigenmodes to our functional networks!\n",
    "</aside>"
   ]
  },
  {
   "cell_type": "markdown",
   "metadata": {
    "slideshow": {
     "slide_type": "fragment"
    }
   },
   "source": [
    "Our goal is to relate the eigenmodes of the complex structural connectome to the canonical functional networks."
   ]
  },
  {
   "cell_type": "markdown",
   "metadata": {
    "slideshow": {
     "slide_type": "skip"
    }
   },
   "source": [
    "Delays become phases in the frequency domain, so we define a complex connectivity matrix as a function of $\\omega$: $\\pmb{C}^*(\\omega) = \\{ c_{j,k} exp(-j\\omega \\pmb{\\tau_{j,k}^v}) \\}$, then a normalized complex connectivity matrix at any given $\\omega$ is:\n",
    "$$ \\pmb{C}(\\omega) = diag(\\frac{1}{\\sqrt{\\pmb{deg}}}) \\pmb{C}^*(\\omega) $$"
   ]
  },
  {
   "cell_type": "markdown",
   "metadata": {
    "slideshow": {
     "slide_type": "skip"
    }
   },
   "source": [
    "Define the Laplacian: $ L(\\omega,\\tau^v) = I - \\alpha C(\\omega,\\tau^v)$, and $L(\\omega, \\tau^v)$ is an 86x86 complex matrix because we parcellated 86 brain regions."
   ]
  },
  {
   "cell_type": "markdown",
   "metadata": {
    "slideshow": {
     "slide_type": "skip"
    }
   },
   "source": [
    "Eigen decompose the Laplacian: $L(\\alpha,k) = U(\\alpha,k)\\Lambda(\\alpha,k)U^H(\\alpha,k)$\n",
    "\n",
    "We believe the eigenmodes $U(\\alpha,k)$ are a substrate of the brain's white matter connections on which functional activity plays out."
   ]
  },
  {
   "cell_type": "markdown",
   "metadata": {
    "slideshow": {
     "slide_type": "skip"
    }
   },
   "source": [
    "$U(\\alpha,k)$ is a vector whose numbers represent the magnitude of power in each parcellated brain region."
   ]
  },
  {
   "cell_type": "markdown",
   "metadata": {
    "slideshow": {
     "slide_type": "subslide"
    }
   },
   "source": [
    "## What do these eigenmodes look like?"
   ]
  },
  {
   "cell_type": "markdown",
   "metadata": {
    "slideshow": {
     "slide_type": "fragment"
    }
   },
   "source": [
    "We compare our findings with the conventional non-complex structural connectome.\n",
    "\n",
    "<center>\n",
    "<img src = \"figures/presentation/eigmode_examples2.png\" alt = \"eig_examples\" width = \"1300\" style = \"align:center\"/>\n",
    "</center>"
   ]
  },
  {
   "cell_type": "markdown",
   "metadata": {
    "slideshow": {
     "slide_type": "subslide"
    }
   },
   "source": [
    "Eigenmodes of the complex Laplacian exhibit spatial patterns of fMRI canonical networks."
   ]
  },
  {
   "cell_type": "markdown",
   "metadata": {
    "slideshow": {
     "slide_type": "fragment"
    }
   },
   "source": [
    "<center>\n",
    "<img src = \"figures/presentation/fig3_rescaled_compiled.png\" alt = \"fc_eig\" style = \"align:center;width:890px;height:850px\"/>\n",
    "</center>"
   ]
  },
  {
   "cell_type": "markdown",
   "metadata": {
    "slideshow": {
     "slide_type": "subslide"
    }
   },
   "source": [
    "<center>\n",
    "<img src = \"figures/presentation/cl_scatter.png\" alt = \"fc_scatter\" width = \"1100\"style = \"align:center\"/>\n",
    "</center>"
   ]
  },
  {
   "cell_type": "markdown",
   "metadata": {
    "slideshow": {
     "slide_type": "subslide"
    }
   },
   "source": [
    "#### Spatial pattern matching of complex Laplacian outperforms real Laplacian:"
   ]
  },
  {
   "cell_type": "markdown",
   "metadata": {
    "slideshow": {
     "slide_type": "fragment"
    }
   },
   "source": [
    "<center>\n",
    "<img src = \"figures/presentation/pearson_residual.png\" alt = \"pearson\" width = \"1600\" style = \"align:center\"/>\n",
    "</center>"
   ]
  },
  {
   "cell_type": "markdown",
   "metadata": {
    "slideshow": {
     "slide_type": "subslide"
    }
   },
   "source": [
    "### Group Level Comparison:\n",
    "\n",
    "<center>\n",
    "<img src = \"figures/presentation/group_pearson.png\" alt = \"pearson\" width = \"1600\" style = \"align:center\"/>\n",
    "</center>"
   ]
  },
  {
   "cell_type": "markdown",
   "metadata": {
    "slideshow": {
     "slide_type": "skip"
    }
   },
   "source": [
    "### Next step: Examine the frequency spectrum of eigenmodes\n",
    "<center>\n",
    "<img src = \"figures/presentation/SGM_1.png\" alt = \"SGM1\" width = \"1200\" style =\"align:center\"/>\n",
    "</center>"
   ]
  },
  {
   "cell_type": "markdown",
   "metadata": {
    "slideshow": {
     "slide_type": "slide"
    }
   },
   "source": [
    "<p style = \"text-align:center; font-size:120%;\"> Examine MEG Frequency Spectrum with a Parsimonious Structure-Function Model </p>\n",
    "<center>\n",
    "<img src = \"figures/presentation/SGM1_model.png\" alt = \"sg1\" width = \"600\" style =\"align:center\"/>\n",
    "</center>"
   ]
  },
  {
   "cell_type": "markdown",
   "metadata": {
    "slideshow": {
     "slide_type": "fragment"
    }
   },
   "source": [
    "and the structural eigenmodes act as spatial filters!\n",
    "<center>\n",
    "    <img src = \"figures/presentation/intro_pysurfer.png\" alt = \"eigenmodes\" style = \"align:center;width:500px;height:150px\"/> \n",
    "</center>"
   ]
  },
  {
   "cell_type": "markdown",
   "metadata": {
    "slideshow": {
     "slide_type": "fragment"
    }
   },
   "source": [
    "Evaluating the eigen decomposition of the complex graph Laplacian: $L(\\omega) = U(\\omega)\\Lambda(\\omega)U^H(\\omega)$, our spectral graph model is defined as:\n",
    "$$ X(\\omega) = \\sum_{i} \\frac{u_i(\\omega) u_i^H (\\omega)}{j\\omega + \\frac{1}{\\tau_C} \\lambda_i F_e(\\omega)} H_{local}(\\omega) \\boldsymbol{P}(\\omega) $$"
   ]
  },
  {
   "cell_type": "markdown",
   "metadata": {
    "slideshow": {
     "slide_type": "subslide"
    }
   },
   "source": [
    "## A quick to compute linear hierarchical model:"
   ]
  },
  {
   "cell_type": "markdown",
   "metadata": {
    "slideshow": {
     "slide_type": "fragment"
    }
   },
   "source": [
    "<center>\n",
    "<img src = \"figures/presentation/mcmc_animated.gif\" alt = \"mcmc_gif\" width = \"700\" style =\"align:center\"/>\n",
    "</center>"
   ]
  },
  {
   "cell_type": "markdown",
   "metadata": {
    "slideshow": {
     "slide_type": "skip"
    }
   },
   "source": [
    "### Highly probable parameters that reproduce MEG spectrum"
   ]
  },
  {
   "cell_type": "markdown",
   "metadata": {
    "slideshow": {
     "slide_type": "skip"
    }
   },
   "source": [
    "<center>\n",
    "<img src = \"figures/presentation/SGM_mcmc_params.png\" alt = \"mcmc\" width = \"1200\" style =\"align:center\"/>\n",
    "</center>"
   ]
  },
  {
   "cell_type": "markdown",
   "metadata": {
    "slideshow": {
     "slide_type": "subslide"
    }
   },
   "source": [
    "Group level comparison:\n",
    "<center>\n",
    "<img src = \"figures/presentation/SGM_ave_spectrum.png\" alt = \"sg7\" width = \"1000\" style =\"align:center\"/>\n",
    "</center>"
   ]
  },
  {
   "cell_type": "markdown",
   "metadata": {
    "slideshow": {
     "slide_type": "subslide"
    }
   },
   "source": [
    "Spatial Patterns in Alpha-band:\n",
    "\n",
    "<center>\n",
    "<img src = \"figures/presentation/SGM_alpha_spatial.png\" alt = \"sg7\" width = \"1000\" style =\"align:center\"/>\n",
    "</center>"
   ]
  },
  {
   "cell_type": "markdown",
   "metadata": {
    "slideshow": {
     "slide_type": "subslide"
    }
   },
   "source": [
    "Spatial Patterns in Beta-band:\n",
    "\n",
    "<center>\n",
    "<img src = \"figures/presentation/SGM_beta_spatial.png\" alt = \"sg7\" width = \"1000\" style =\"align:center\"/>\n",
    "</center>"
   ]
  },
  {
   "cell_type": "markdown",
   "metadata": {
    "slideshow": {
     "slide_type": "subslide"
    }
   },
   "source": [
    "Spectral graph model performance:\n",
    "<center>\n",
    "    <img src = \"figures/presentation/SGM_spatial_violin.png\" alt = \"model_comparison\" width = \"1200\" style = \"align:center\"/>\n",
    "</center>"
   ]
  },
  {
   "cell_type": "markdown",
   "metadata": {
    "slideshow": {
     "slide_type": "subslide"
    }
   },
   "source": [
    "## Take-aways\n",
    "\n",
    " - Modeling second order statistics of population mean signal is not mechanistically interesting.\n",
    "     - Data driven clusters, frequency spectra, and their spatial distributions are much more informative.\n",
    " - NMM parameter inference is time consuming, sensitive to initial conditions, and faces identifiability issues.\n",
    " - The joint statistics of non-invasive brain recordings show promising patterns for further research.\n",
    " - We extracted canonical functional patterns of brain activity via complex-valued structural eigenmodes.\n",
    " - MEG Alpha and beta band activity can be mapped to individual complex-valued structural eigenmodes.\n",
    " - Our linear hierarchical model captures BOTH frequency patterns as well as spatial patterns of brain activity."
   ]
  },
  {
   "cell_type": "markdown",
   "metadata": {
    "slideshow": {
     "slide_type": "slide"
    }
   },
   "source": [
    "## SGM in the near future:\n",
    "\n",
    " - More specified local dynamics.\n",
    " - Tau PET data modeling.\n",
    " - Infant development spectral maturation.\n",
    " \n",
    "## Tractography advancements:"
   ]
  },
  {
   "cell_type": "markdown",
   "metadata": {
    "slideshow": {
     "slide_type": "slide"
    }
   },
   "source": [
    "# Thank you slides..."
   ]
  }
 ],
 "metadata": {
  "celltoolbar": "Slideshow",
  "kernelspec": {
   "display_name": "Python (spectrome)",
   "language": "python",
   "name": "spectrome"
  },
  "language_info": {
   "codemirror_mode": {
    "name": "ipython",
    "version": 3
   },
   "file_extension": ".py",
   "mimetype": "text/x-python",
   "name": "python",
   "nbconvert_exporter": "python",
   "pygments_lexer": "ipython3",
   "version": "3.8.1"
  }
 },
 "nbformat": 4,
 "nbformat_minor": 4
}
